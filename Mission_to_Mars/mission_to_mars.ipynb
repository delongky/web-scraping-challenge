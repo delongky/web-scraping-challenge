{
 "cells": [
  {
   "cell_type": "code",
   "execution_count": 1,
   "id": "split-lounge",
   "metadata": {},
   "outputs": [],
   "source": [
    "import pandas as pd\n",
    "from splinter import Browser\n",
    "from bs4 import BeautifulSoup as bs\n",
    "import requests\n",
    "import pymongo\n",
    "from webdriver_manager.chrome import ChromeDriverManager"
   ]
  },
  {
   "cell_type": "markdown",
   "id": "transparent-class",
   "metadata": {},
   "source": [
    "## NASA Mars News"
   ]
  },
  {
   "cell_type": "code",
   "execution_count": 2,
   "id": "played-charge",
   "metadata": {},
   "outputs": [
    {
     "name": "stderr",
     "output_type": "stream",
     "text": [
      "[WDM] - ====== WebDriver manager ======\n",
      "[WDM] - Current google-chrome version is 89.0.4389\n",
      "[WDM] - Get LATEST driver version for 89.0.4389\n"
     ]
    },
    {
     "name": "stdout",
     "output_type": "stream",
     "text": [
      "\n",
      "\n"
     ]
    },
    {
     "name": "stderr",
     "output_type": "stream",
     "text": [
      "[WDM] - Driver [C:\\Users\\kyucz\\.wdm\\drivers\\chromedriver\\win32\\89.0.4389.23\\chromedriver.exe] found in cache\n"
     ]
    }
   ],
   "source": [
    "# Setup splinter\n",
    "executable_path = {'executable_path': ChromeDriverManager().install()}\n",
    "browser = Browser('chrome', **executable_path, headless=False)"
   ]
  },
  {
   "cell_type": "code",
   "execution_count": 3,
   "id": "changed-amazon",
   "metadata": {},
   "outputs": [
    {
     "name": "stdout",
     "output_type": "stream",
     "text": [
      "NASA Ingenuity Mars Helicopter Prepares for First Flight\n",
      "Now uncocooned from its protective carbon-fiber shield, the helicopter is being readied for its next steps.  \n"
     ]
    }
   ],
   "source": [
    "# URL of page to be scraped\n",
    "news_url = 'https://mars.nasa.gov/news/'\n",
    "browser.visit(news_url)\n",
    "\n",
    "# Create Beautiful Soup object & select parser\n",
    "html = browser.html\n",
    "soup = bs(html, 'lxml')\n",
    "\n",
    "# Extract title text\n",
    "article = soup.find('div', class_=\"list_text\")\n",
    "news_title = article.find('div', class_=\"content_title\").text\n",
    "\n",
    "# Extract paragraph text\n",
    "news_p = article.find('div', class_=\"article_teaser_body\").text\n",
    "\n",
    "# Print attributes\n",
    "print(news_title)\n",
    "print(news_p)"
   ]
  },
  {
   "cell_type": "code",
   "execution_count": 4,
   "id": "elementary-creativity",
   "metadata": {},
   "outputs": [],
   "source": [
    "# exit browser\n",
    "browser.quit()"
   ]
  },
  {
   "cell_type": "markdown",
   "id": "critical-yemen",
   "metadata": {},
   "source": [
    "## JPL Mars Space Images - Featured Image"
   ]
  },
  {
   "cell_type": "code",
   "execution_count": 5,
   "id": "continental-artist",
   "metadata": {},
   "outputs": [
    {
     "name": "stderr",
     "output_type": "stream",
     "text": [
      "[WDM] - ====== WebDriver manager ======\n",
      "[WDM] - Current google-chrome version is 89.0.4389\n",
      "[WDM] - Get LATEST driver version for 89.0.4389\n",
      "[WDM] - Driver [C:\\Users\\kyucz\\.wdm\\drivers\\chromedriver\\win32\\89.0.4389.23\\chromedriver.exe] found in cache\n"
     ]
    },
    {
     "name": "stdout",
     "output_type": "stream",
     "text": [
      "\n",
      "\n"
     ]
    }
   ],
   "source": [
    "# Setup splinter\n",
    "executable_path = {'executable_path': ChromeDriverManager().install()}\n",
    "browser = Browser('chrome', **executable_path, headless=False)"
   ]
  },
  {
   "cell_type": "code",
   "execution_count": 6,
   "id": "earlier-surname",
   "metadata": {},
   "outputs": [
    {
     "name": "stdout",
     "output_type": "stream",
     "text": [
      "https://data-class-jpl-space.s3.amazonaws.com/JPL_Space/image/featured/mars2.jpg\n"
     ]
    }
   ],
   "source": [
    "images_url = 'https://data-class-jpl-space.s3.amazonaws.com/JPL_Space/index.html#'\n",
    "browser.visit(images_url)\n",
    "\n",
    "# HTML object\n",
    "html = browser.html\n",
    "# Parse HTML with Beautiful Soup\n",
    "soup = bs(html, 'html.parser')\n",
    "\n",
    "# Use splinter to navigate the site & find the image URL for the current featured mars image\n",
    "# assign url string to variable: featured_image_url\n",
    "find_img = soup.find('img', class_=\"headerimage fade-in\")['src']\n",
    "\n",
    "# make sure to find the image url to the full size .jpg image\n",
    "# save complete url string for the image\n",
    "base_url = 'https://data-class-jpl-space.s3.amazonaws.com/JPL_Space/'\n",
    "featured_image_url = base_url + find_img\n",
    "print(featured_image_url)"
   ]
  },
  {
   "cell_type": "code",
   "execution_count": 7,
   "id": "inappropriate-stress",
   "metadata": {},
   "outputs": [],
   "source": [
    "# exit browser\n",
    "browser.quit()"
   ]
  },
  {
   "cell_type": "markdown",
   "id": "underlying-image",
   "metadata": {},
   "source": [
    "## Mars Facts"
   ]
  },
  {
   "cell_type": "code",
   "execution_count": 8,
   "id": "limited-alpha",
   "metadata": {},
   "outputs": [],
   "source": [
    "# define url of site to be scraped\n",
    "facts_url = 'https://space-facts.com/mars/'\n",
    "\n",
    "# use read_html function in pandas to scrape all tabular data\n",
    "tables = pd.read_html(facts_url)\n",
    "tables\n",
    "\n",
    "# slice off 1st dataframe\n",
    "marsfacts = tables[0]\n",
    "marsfacts.columns=['Category','Mars Profile']\n",
    "marsfacts.reset_index(drop=True, inplace=True)\n",
    "\n",
    "# generate html table from dataframe\n",
    "mars_html_table = marsfacts.to_html(index=False)\n",
    "\n",
    "# save directly to html file\n",
    "marsfacts.to_html('mars_facts_table.html')"
   ]
  },
  {
   "cell_type": "code",
   "execution_count": 9,
   "id": "received-citation",
   "metadata": {},
   "outputs": [],
   "source": [
    "# strip unwanted newlines to clean up table\n",
    "# mars_html_table = mars_html_table.replace('\\n', '')\n",
    "# mars_html_table"
   ]
  },
  {
   "cell_type": "markdown",
   "id": "freelance-scope",
   "metadata": {},
   "source": [
    "## Mars Hemispheres"
   ]
  },
  {
   "cell_type": "code",
   "execution_count": 16,
   "id": "approximate-conclusion",
   "metadata": {},
   "outputs": [
    {
     "name": "stderr",
     "output_type": "stream",
     "text": [
      "[WDM] - ====== WebDriver manager ======\n",
      "[WDM] - Current google-chrome version is 89.0.4389\n",
      "[WDM] - Get LATEST driver version for 89.0.4389\n"
     ]
    },
    {
     "name": "stdout",
     "output_type": "stream",
     "text": [
      "\n",
      "\n"
     ]
    },
    {
     "name": "stderr",
     "output_type": "stream",
     "text": [
      "[WDM] - Driver [C:\\Users\\kyucz\\.wdm\\drivers\\chromedriver\\win32\\89.0.4389.23\\chromedriver.exe] found in cache\n"
     ]
    }
   ],
   "source": [
    "# Setup splinter\n",
    "executable_path = {'executable_path': ChromeDriverManager().install()}\n",
    "browser = Browser('chrome', **executable_path, headless=False)"
   ]
  },
  {
   "cell_type": "code",
   "execution_count": 17,
   "id": "oriental-drinking",
   "metadata": {},
   "outputs": [],
   "source": [
    "hemi_url = 'https://astrogeology.usgs.gov/search/results?q=hemisphere+enhanced&k1=target&v1=Mars'\n",
    "browser.visit(hemi_url)\n",
    "\n",
    "# establish base url variable to append links to for each image in loop\n",
    "base_url = 'https://astrogeology.usgs.gov'\n",
    "\n",
    "# Create empty list to store title & url info into a dictionary for each hemisphere\n",
    "mars_hemis = []\n",
    "\n",
    "# Iterate through all images\n",
    "#for i in range(0, 4):\n",
    "# HTML object\n",
    "html = browser.html\n",
    "\n",
    "#Parse HTML with beautiful soup\n",
    "soup = bs(html, 'html.parser')\n",
    "\n",
    "# Retrieve all elements that contain image info\n",
    "results = soup.find('div', class_='result-list')\n",
    "images = soup.find_all('div', class_='description')\n",
    "\n",
    "for image in images:\n",
    "    # Use BS's find() method to navigate main page to retrieve titles\n",
    "    title = image.find('h3').text\n",
    "    title = title.replace(\"Enhanced\",\"\")\n",
    "    link = image.find('a')['href']\n",
    "    hemi_link = base_url + link\n",
    "    # Visit each page to retrieve full jpg url\n",
    "    browser.visit(hemi_link)\n",
    "    html = browser.html\n",
    "    soup = bs(html, 'html.parser')\n",
    "    wide_image = soup.find('img', class_='wide-image')\n",
    "    img_url = wide_image['src']\n",
    "    full_img_url = base_url + img_url\n",
    "    mars_hemis.append({'Title': title, 'img_url': full_img_url})\n",
    "\n",
    "    #browser.back()\n",
    "    #browser.links.find_by_partial_href('enhanced').click()"
   ]
  },
  {
   "cell_type": "code",
   "execution_count": 18,
   "id": "broken-arbor",
   "metadata": {},
   "outputs": [
    {
     "data": {
      "text/plain": [
       "[{'Title': 'Cerberus Hemisphere ',\n",
       "  'img_url': 'https://astrogeology.usgs.gov/cache/images/f5e372a36edfa389625da6d0cc25d905_cerberus_enhanced.tif_full.jpg'},\n",
       " {'Title': 'Schiaparelli Hemisphere ',\n",
       "  'img_url': 'https://astrogeology.usgs.gov/cache/images/3778f7b43bbbc89d6e3cfabb3613ba93_schiaparelli_enhanced.tif_full.jpg'},\n",
       " {'Title': 'Syrtis Major Hemisphere ',\n",
       "  'img_url': 'https://astrogeology.usgs.gov/cache/images/555e6403a6ddd7ba16ddb0e471cadcf7_syrtis_major_enhanced.tif_full.jpg'},\n",
       " {'Title': 'Valles Marineris Hemisphere ',\n",
       "  'img_url': 'https://astrogeology.usgs.gov/cache/images/b3c7c6c9138f57b4756be9b9c43e3a48_valles_marineris_enhanced.tif_full.jpg'}]"
      ]
     },
     "execution_count": 18,
     "metadata": {},
     "output_type": "execute_result"
    }
   ],
   "source": [
    "mars_hemis"
   ]
  },
  {
   "cell_type": "code",
   "execution_count": 19,
   "id": "proud-consolidation",
   "metadata": {},
   "outputs": [],
   "source": [
    "browser.quit()"
   ]
  },
  {
   "cell_type": "code",
   "execution_count": null,
   "id": "unlimited-bible",
   "metadata": {},
   "outputs": [],
   "source": []
  }
 ],
 "metadata": {
  "kernelspec": {
   "display_name": "Python [conda env:PythonData] *",
   "language": "python",
   "name": "conda-env-PythonData-py"
  },
  "language_info": {
   "codemirror_mode": {
    "name": "ipython",
    "version": 3
   },
   "file_extension": ".py",
   "mimetype": "text/x-python",
   "name": "python",
   "nbconvert_exporter": "python",
   "pygments_lexer": "ipython3",
   "version": "3.6.10"
  }
 },
 "nbformat": 4,
 "nbformat_minor": 5
}
